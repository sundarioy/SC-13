{
  "nbformat": 4,
  "nbformat_minor": 0,
  "metadata": {
    "colab": {
      "name": "Klasifikasi Review Produk.ipynb",
      "provenance": []
    },
    "kernelspec": {
      "name": "python3",
      "display_name": "Python 3"
    }
  },
  "cells": [
    {
      "cell_type": "code",
      "metadata": {
        "id": "bAr0qSQScgfC"
      },
      "source": [
        "# bismillahirahmanirrahim"
      ],
      "execution_count": null,
      "outputs": []
    },
    {
      "cell_type": "code",
      "metadata": {
        "id": "xs_zLyOvkmFW"
      },
      "source": [
        "import random\r\n",
        "\r\n",
        "class Sentiment:\r\n",
        "  NEGATIVE = \"NEGATIVE\"\r\n",
        "  NEUTRAL = \"NEUTRAL\"\r\n",
        "  POSITIVE = \"POSITIVE\"\r\n",
        "\r\n",
        "class Review:\r\n",
        "  def __init__(self, text, score):\r\n",
        "    self.text = text\r\n",
        "    self.score = score\r\n",
        "    self.sentiment = self.get_sentiment()\r\n",
        "\r\n",
        "    def get_sentiment(self):\r\n",
        "    if self.score <= 2:\r\n",
        "      return Sentiment.NEGATIVE \r\n",
        "    elif self.score == 3:\r\n",
        "      return Sentiment.NEUTRAL\r\n",
        "    else :\r\n",
        "      return Sentiment.POSITIVE\r\n",
        "\r\n",
        "class ReviewContainer:\r\n",
        "  def __init__(self, reviews):\r\n",
        "    self.reviews = reviews\r\n",
        "\r\n",
        "  def get_text(self):\r\n",
        "    return [x.text for x in self.reviews]\r\n",
        "  \r\n",
        "  def get_sentiment(self):\r\n",
        "    return [x.sentiment for x in self.reviews]\r\n",
        "\r\n",
        "  def evenly_distribute(self):\r\n",
        "    negative = list(filter(lambda x: x.sentiment == Sentiment.NEGATIVE, self.reviews))\r\n",
        "    positive = list(filter(lambda x: x.sentiment == Sentiment.POSITIVE, self.reviews))\r\n",
        "    positive_shrunk = positive[:len(negative)]\r\n",
        "    self.reviews = negative + positive_shrunk\r\n",
        "    random.shuffle(self.reviews)\r\n",
        "    #print(negative[0].text)\r\n",
        "    #print(len(negative))\r\n",
        "    #print(len(positive))   "
      ],
      "execution_count": null,
      "outputs": []
    },
    {
      "cell_type": "markdown",
      "metadata": {
        "id": "hep2uJCEpDDx"
      },
      "source": [
        "Load Data"
      ]
    },
    {
      "cell_type": "code",
      "metadata": {
        "colab": {
          "base_uri": "https://localhost:8080/",
          "height": 223
        },
        "id": "9tqW48LRf8X5",
        "outputId": "248193c7-ab55-4bfa-9975-ea6b29b508c2"
      },
      "source": [
        "import json \r\n",
        "file_name = \"Books_small_10000.json\"\r\n",
        "reviews = []\r\n",
        "with open(file_name) as f:\r\n",
        "  for line in f :\r\n",
        "    # print(line)\r\n",
        "    review = json.loads(line)\r\n",
        "    #print(review['reviewText'])\r\n",
        "    #print(review['overall'])\r\n",
        "    reviews.append(Review(review['reviewText'], review['overall']))\r\n",
        "    \r\n",
        "\r\n",
        "reviews[5].text\r\n",
        "# dengan menggunakan indexing, data akan menjadi berantakan dan sulit. Gunakan class \r\n",
        "# machine learning sering digunakan untuk mengolah data numerik, maka dari itu untuk \r\n",
        "# mengolah text akan diubah menjadi duantitative menggunakan baags-of-words \r\n",
        "# setiap kata dijadikan sebagai kamus, dan dimap dengan 1 dan 0"
      ],
      "execution_count": null,
      "outputs": [
        {
          "output_type": "error",
          "ename": "FileNotFoundError",
          "evalue": "ignored",
          "traceback": [
            "\u001b[0;31m---------------------------------------------------------------------------\u001b[0m",
            "\u001b[0;31mFileNotFoundError\u001b[0m                         Traceback (most recent call last)",
            "\u001b[0;32m<ipython-input-1-a1bb6fff0216>\u001b[0m in \u001b[0;36m<module>\u001b[0;34m()\u001b[0m\n\u001b[1;32m      2\u001b[0m \u001b[0mfile_name\u001b[0m \u001b[0;34m=\u001b[0m \u001b[0;34m\"Books_small_10000.json\"\u001b[0m\u001b[0;34m\u001b[0m\u001b[0;34m\u001b[0m\u001b[0m\n\u001b[1;32m      3\u001b[0m \u001b[0mreviews\u001b[0m \u001b[0;34m=\u001b[0m \u001b[0;34m[\u001b[0m\u001b[0;34m]\u001b[0m\u001b[0;34m\u001b[0m\u001b[0;34m\u001b[0m\u001b[0m\n\u001b[0;32m----> 4\u001b[0;31m \u001b[0;32mwith\u001b[0m \u001b[0mopen\u001b[0m\u001b[0;34m(\u001b[0m\u001b[0mfile_name\u001b[0m\u001b[0;34m)\u001b[0m \u001b[0;32mas\u001b[0m \u001b[0mf\u001b[0m\u001b[0;34m:\u001b[0m\u001b[0;34m\u001b[0m\u001b[0;34m\u001b[0m\u001b[0m\n\u001b[0m\u001b[1;32m      5\u001b[0m   \u001b[0;32mfor\u001b[0m \u001b[0mline\u001b[0m \u001b[0;32min\u001b[0m \u001b[0mf\u001b[0m \u001b[0;34m:\u001b[0m\u001b[0;34m\u001b[0m\u001b[0;34m\u001b[0m\u001b[0m\n\u001b[1;32m      6\u001b[0m     \u001b[0;31m# print(line)\u001b[0m\u001b[0;34m\u001b[0m\u001b[0;34m\u001b[0m\u001b[0;34m\u001b[0m\u001b[0m\n",
            "\u001b[0;31mFileNotFoundError\u001b[0m: [Errno 2] No such file or directory: 'Books_small_10000.json'"
          ]
        }
      ]
    },
    {
      "cell_type": "markdown",
      "metadata": {
        "id": "FhDJgM64pQ_1"
      },
      "source": [
        "Prep Data"
      ]
    },
    {
      "cell_type": "code",
      "metadata": {
        "colab": {
          "base_uri": "https://localhost:8080/"
        },
        "id": "aIoGQ_HInakU",
        "outputId": "a2cb3afa-4879-4cb4-a42b-ce33c818103c"
      },
      "source": [
        "from sklearn.model_selection import train_test_split\r\n",
        "training, test = train_test_split(reviews, test_size=0.33, random_state=42)\r\n",
        "\r\n",
        "train_container = ReviewContainer(training)\r\n",
        "test_container = ReviewContainer(test) \r\n",
        "\r\n",
        "cont.evenly_distribute()\r\n",
        "len(cont.reviews)"
      ],
      "execution_count": null,
      "outputs": [
        {
          "output_type": "execute_result",
          "data": {
            "text/plain": [
              "872"
            ]
          },
          "metadata": {
            "tags": []
          },
          "execution_count": 154
        }
      ]
    },
    {
      "cell_type": "code",
      "metadata": {
        "colab": {
          "base_uri": "https://localhost:8080/"
        },
        "id": "yPEAmHFQoiv1",
        "outputId": "afacc99d-e448-4e26-f752-af08ea6089bf"
      },
      "source": [
        "print(training[0].text)\r\n",
        "print(training[0].sentiment)"
      ],
      "execution_count": null,
      "outputs": [
        {
          "output_type": "stream",
          "text": [
            "Olivia Hampton arrives at the Dunraven family home as cataloger of their extensive library. What she doesn't expect is a broken carriage wheel on the way. Nor a young girl whose mind is clearly gone, an old man in need of care himself (and doesn&#8217;t quite seem all there in Olivia&#8217;s opinion). Furthermore, Marion Dunraven, the only sane one of the bunch and the one Olivia is inexplicable drawn to, seems captive to everyone in the dusty old house. More importantly, she doesn't expect to fall in love with Dunraven's daughter Marion.Can Olivia truly believe the stories of sadness and death that surround the house, or are they all just local neighborhood rumor?Was that carriage trouble just a coincidence or a supernatural sign to stay away? If she remains, will the Castle&#8217;s dark shadows take Olivia down with them or will she and Marion long enough to declare their love?Patty G. Henderson has created an atmospheric and intriguing story in her Gothic tale. I found this to be an enjoyable read, even if it isn&#8217;t my usual preferred genre. I think, with this tale, I got hooked on the old Gothic romantic style. So I think fans of the genre (and of lesbian romances) will enjoy it.\n",
            "POSITIVE\n"
          ],
          "name": "stdout"
        }
      ]
    },
    {
      "cell_type": "code",
      "metadata": {
        "colab": {
          "base_uri": "https://localhost:8080/",
          "height": 35
        },
        "id": "_nAUFcCqpRAs",
        "outputId": "3dc2957a-e82a-4ec8-df84-e694c0f3d780"
      },
      "source": [
        "# data train dipisah menjadi text dan sentiment \r\n",
        "# train_x = (x.text for x in training) \r\n",
        "# train_y = (x.sentiment for x in training)\r\n",
        "\r\n",
        "train_container.evenly_distribute()\r\n",
        "\r\n",
        "train_x = train_container.get_text()\r\n",
        "train_y = train_container.get_sentiment()\r\n",
        "\r\n",
        "# test_x = (x.text for x in test)\r\n",
        "# test_y = (x.sentiment for x in test)\r\n",
        "\r\n",
        "test_container.evenly_distribute()\r\n",
        "\r\n",
        "test_x = test_container.get_text()\r\n",
        "test_y = test_container.get_sentiment()\r\n",
        "\r\n",
        "train_x_list = list(train_x)\r\n",
        "train_y_list = list(train_y)\r\n",
        "test_x_list = list(test_x)\r\n",
        "test_y_list = list(test_y)\r\n",
        "\r\n",
        "train_x_list[0]\r\n",
        "train_y_list[0]\r\n"
      ],
      "execution_count": null,
      "outputs": [
        {
          "output_type": "execute_result",
          "data": {
            "application/vnd.google.colaboratory.intrinsic+json": {
              "type": "string"
            },
            "text/plain": [
              "'NEGATIVE'"
            ]
          },
          "metadata": {
            "tags": []
          },
          "execution_count": 183
        }
      ]
    },
    {
      "cell_type": "code",
      "metadata": {
        "colab": {
          "base_uri": "https://localhost:8080/"
        },
        "id": "Pw2HU8-0ETNp",
        "outputId": "4dfcfccd-d4e1-413d-e64a-32f982308933"
      },
      "source": [
        "print(train_y.count(Sentiment.POSITIVE))\r\n",
        "print(train_y.count(Sentiment.NEGATIVE))"
      ],
      "execution_count": null,
      "outputs": [
        {
          "output_type": "stream",
          "text": [
            "436\n",
            "436\n"
          ],
          "name": "stdout"
        }
      ]
    },
    {
      "cell_type": "markdown",
      "metadata": {
        "id": "Jm52vw3nsDeS"
      },
      "source": [
        "Bags of words vectorization"
      ]
    },
    {
      "cell_type": "code",
      "metadata": {
        "colab": {
          "base_uri": "https://localhost:8080/"
        },
        "id": "4nqv4fEjtbtq",
        "outputId": "03452895-5eaa-4a05-dbf1-6724c675bad0"
      },
      "source": [
        "from sklearn.feature_extraction.text import CountVectorizer, TfidfVectorizer\r\n",
        "\r\n",
        "vectorizer = TfidfVectorizer()\r\n",
        "\r\n",
        "train_x_vectors = vectorizer.fit_transform(train_x_list)\r\n",
        "test_x_vectors = vectorizer.transform(test_x_list)\r\n",
        "\r\n",
        "#vectorizer.fit(train_x_list)\r\n",
        "#train_x_vectors = vectorizer.transform(train_x_list)\r\n",
        "\r\n",
        "print(train_x_list[0])\r\n",
        "print(train_x_vectors[0].toarray())\r\n",
        "\r\n",
        "#train_x_vectors\r\n",
        "#train_y_list\r\n"
      ],
      "execution_count": null,
      "outputs": [
        {
          "output_type": "stream",
          "text": [
            "Was not really sure what this book was about.  It was so boring, I stopped reading after the 8th/9th chapter.\n",
            "[[0. 0. 0. ... 0. 0. 0.]]\n"
          ],
          "name": "stdout"
        }
      ]
    },
    {
      "cell_type": "markdown",
      "metadata": {
        "id": "Ds4S9NA9vXTX"
      },
      "source": [
        "CLASSIFICATION - Linear SVM"
      ]
    },
    {
      "cell_type": "code",
      "metadata": {
        "colab": {
          "base_uri": "https://localhost:8080/"
        },
        "id": "yjVnHKJzvZ6D",
        "outputId": "b81c763d-f930-4ab4-b0e1-0d10e1db7043"
      },
      "source": [
        "from sklearn import svm\r\n",
        "\r\n",
        "clf_svm = svm.SVC(kernel='linear')\r\n",
        "clf_svm.fit(train_x_vectors, train_y_list)\r\n",
        "\r\n",
        "test_x_list[0]\r\n",
        "\r\n",
        "clf_svm.predict(test_x_vectors[0])\r\n",
        "\r\n"
      ],
      "execution_count": null,
      "outputs": [
        {
          "output_type": "execute_result",
          "data": {
            "text/plain": [
              "array(['POSITIVE'], dtype='<U8')"
            ]
          },
          "metadata": {
            "tags": []
          },
          "execution_count": 205
        }
      ]
    },
    {
      "cell_type": "markdown",
      "metadata": {
        "id": "sZcO6FK_xkYN"
      },
      "source": [
        "CLASSIFICATION - Decision Tree"
      ]
    },
    {
      "cell_type": "code",
      "metadata": {
        "colab": {
          "base_uri": "https://localhost:8080/"
        },
        "id": "ZrTL80fkxiP-",
        "outputId": "03f865f6-17b1-457e-c7b2-84f23b06fab6"
      },
      "source": [
        "from sklearn.tree import DecisionTreeClassifier\r\n",
        "\r\n",
        "clf_dec = DecisionTreeClassifier()\r\n",
        "clf_dec.fit(train_x_vectors, train_y_list)\r\n",
        "clf_dec.predict(test_x_vectors[0])"
      ],
      "execution_count": null,
      "outputs": [
        {
          "output_type": "execute_result",
          "data": {
            "text/plain": [
              "array(['POSITIVE'], dtype='<U8')"
            ]
          },
          "metadata": {
            "tags": []
          },
          "execution_count": 206
        }
      ]
    },
    {
      "cell_type": "markdown",
      "metadata": {
        "id": "RbzC-nqnyW5x"
      },
      "source": [
        "CLASSIFICATION - Naive Bayes"
      ]
    },
    {
      "cell_type": "code",
      "metadata": {
        "colab": {
          "base_uri": "https://localhost:8080/"
        },
        "id": "k829B9z8yZ56",
        "outputId": "6b15de60-ccec-4b53-d1af-9afe59f0feca"
      },
      "source": [
        "from sklearn.naive_bayes import GaussianNB\r\n",
        "\r\n",
        "clf_gnb = GaussianNB()\r\n",
        "clf_gnb.fit(train_x_vectors.toarray(), train_y_list)\r\n",
        "clf_gnb.predict(test_x_vectors[0].toarray())"
      ],
      "execution_count": null,
      "outputs": [
        {
          "output_type": "execute_result",
          "data": {
            "text/plain": [
              "array(['NEGATIVE'], dtype='<U8')"
            ]
          },
          "metadata": {
            "tags": []
          },
          "execution_count": 207
        }
      ]
    },
    {
      "cell_type": "markdown",
      "metadata": {
        "id": "BqBi88xWzp5i"
      },
      "source": [
        "CLASSIFICATION - Logisitc Regression"
      ]
    },
    {
      "cell_type": "code",
      "metadata": {
        "colab": {
          "base_uri": "https://localhost:8080/"
        },
        "id": "58z2z0W-zx7e",
        "outputId": "5dd46ed7-b08e-4b76-a0a1-0c5eebf226c0"
      },
      "source": [
        "from sklearn.linear_model import LogisticRegression\r\n",
        "\r\n",
        "clf_log = LogisticRegression()\r\n",
        "clf_log.fit(train_x_vectors, train_y_list)\r\n",
        "clf_log.predict(test_x_vectors[0])"
      ],
      "execution_count": null,
      "outputs": [
        {
          "output_type": "execute_result",
          "data": {
            "text/plain": [
              "array(['POSITIVE'], dtype='<U8')"
            ]
          },
          "metadata": {
            "tags": []
          },
          "execution_count": 208
        }
      ]
    },
    {
      "cell_type": "markdown",
      "metadata": {
        "id": "omOlsYtL0xJb"
      },
      "source": [
        "EVALUATION"
      ]
    },
    {
      "cell_type": "code",
      "metadata": {
        "colab": {
          "base_uri": "https://localhost:8080/"
        },
        "id": "pB3bnFq90ys9",
        "outputId": "c543f2df-a5e0-4fc1-9c4d-52afd49a57f8"
      },
      "source": [
        "# Mean Accuracy\r\n",
        "print(clf_svm.score(test_x_vectors, test_y_list))\r\n",
        "print(clf_dec.score(test_x_vectors, test_y_list))\r\n",
        "print(clf_gnb.score(test_x_vectors.toarray(), test_y_list))\r\n",
        "print(clf_log.score(test_x_vectors, test_y_list))"
      ],
      "execution_count": null,
      "outputs": [
        {
          "output_type": "stream",
          "text": [
            "0.8076923076923077\n",
            "0.6634615384615384\n",
            "0.6610576923076923\n",
            "0.8052884615384616\n"
          ],
          "name": "stdout"
        }
      ]
    },
    {
      "cell_type": "code",
      "metadata": {
        "colab": {
          "base_uri": "https://localhost:8080/"
        },
        "id": "zyLnfTJ52lYb",
        "outputId": "9df2630e-6f2b-40e0-8e20-b683e64df90d"
      },
      "source": [
        "# F1 scores\r\n",
        "from sklearn.metrics import f1_score\r\n",
        "\r\n",
        "f1_score(test_y_list, clf_svm.predict(test_x_vectors), average=None, labels=[Sentiment.POSITIVE, Sentiment.NEGATIVE])"
      ],
      "execution_count": null,
      "outputs": [
        {
          "output_type": "execute_result",
          "data": {
            "text/plain": [
              "array([0.55445545, 0.74480151])"
            ]
          },
          "metadata": {
            "tags": []
          },
          "execution_count": 199
        }
      ]
    },
    {
      "cell_type": "code",
      "metadata": {
        "colab": {
          "base_uri": "https://localhost:8080/"
        },
        "id": "0Z4j3gZz4t0_",
        "outputId": "ae0a10f2-62f9-4ee1-f279-1ad707313e34"
      },
      "source": [
        "test_y_list.count(Sentiment.POSITIVE)"
      ],
      "execution_count": null,
      "outputs": [
        {
          "output_type": "execute_result",
          "data": {
            "text/plain": [
              "208"
            ]
          },
          "metadata": {
            "tags": []
          },
          "execution_count": 178
        }
      ]
    },
    {
      "cell_type": "code",
      "metadata": {
        "colab": {
          "base_uri": "https://localhost:8080/"
        },
        "id": "kTqVeODv5Avr",
        "outputId": "9f15fa08-5784-48e2-c06e-fda389f414e5"
      },
      "source": [
        "test_set = ['I love this, 5 stars for you!', 'worse', 'very good']\r\n",
        "new_test = vectorizer.transform(test_set)\r\n",
        "\r\n",
        "clf_svm.predict(new_test)\r\n"
      ],
      "execution_count": null,
      "outputs": [
        {
          "output_type": "execute_result",
          "data": {
            "text/plain": [
              "array(['POSITIVE', 'NEGATIVE', 'POSITIVE'], dtype='<U8')"
            ]
          },
          "metadata": {
            "tags": []
          },
          "execution_count": 198
        }
      ]
    },
    {
      "cell_type": "markdown",
      "metadata": {
        "id": "-EOTNr00IYwF"
      },
      "source": [
        "Tuning model"
      ]
    },
    {
      "cell_type": "code",
      "metadata": {
        "colab": {
          "base_uri": "https://localhost:8080/"
        },
        "id": "RpAZGq7xIPNB",
        "outputId": "b2d1cfd2-0451-4546-dd98-b42531769385"
      },
      "source": [
        "from sklearn.model_selection import GridSearchCV\r\n",
        "\r\n",
        "parameters = {'kernel':('linear', 'rbf'), 'C': (1,4,8,16,32)}\r\n",
        "\r\n",
        "svc = svm.SVC()\r\n",
        "clf = GridSearchCV(svc,parameters,cv=5)\r\n",
        "clf.fit(train_x_vectors, train_y_list)\r\n",
        "\r\n"
      ],
      "execution_count": null,
      "outputs": [
        {
          "output_type": "execute_result",
          "data": {
            "text/plain": [
              "GridSearchCV(cv=5, error_score=nan,\n",
              "             estimator=SVC(C=1.0, break_ties=False, cache_size=200,\n",
              "                           class_weight=None, coef0=0.0,\n",
              "                           decision_function_shape='ovr', degree=3,\n",
              "                           gamma='scale', kernel='rbf', max_iter=-1,\n",
              "                           probability=False, random_state=None, shrinking=True,\n",
              "                           tol=0.001, verbose=False),\n",
              "             iid='deprecated', n_jobs=None,\n",
              "             param_grid={'C': (1, 4, 8, 16, 32), 'kernel': ('linear', 'rbf')},\n",
              "             pre_dispatch='2*n_jobs', refit=True, return_train_score=False,\n",
              "             scoring=None, verbose=0)"
            ]
          },
          "metadata": {
            "tags": []
          },
          "execution_count": 213
        }
      ]
    },
    {
      "cell_type": "code",
      "metadata": {
        "colab": {
          "base_uri": "https://localhost:8080/"
        },
        "id": "s1l3nng_J0D2",
        "outputId": "8e982b8c-775f-4d1b-f664-a2653a68b3b6"
      },
      "source": [
        "print(clf.score(test_x_vectors, test_y))"
      ],
      "execution_count": null,
      "outputs": [
        {
          "output_type": "stream",
          "text": [
            "0.8076923076923077\n"
          ],
          "name": "stdout"
        }
      ]
    }
  ]
}